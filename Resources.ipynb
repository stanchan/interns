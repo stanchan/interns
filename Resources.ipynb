{
 "metadata": {
  "name": "",
  "signature": "sha256:0546b1aeea6e287edbbafab385fb6868d2a7e6acf171251bd00502d222097bf8"
 },
 "nbformat": 3,
 "nbformat_minor": 0,
 "worksheets": [
  {
   "cells": [
    {
     "cell_type": "heading",
     "level": 2,
     "metadata": {},
     "source": [
      "Django Resources:\n",
      "\n",
      "\n",
      "\n",
      "    "
     ]
    },
    {
     "cell_type": "markdown",
     "metadata": {},
     "source": [
      "Learn Python\n",
      "\n",
      "http://learnpythonthehardway.org/book/\n",
      "\n",
      "Do the Polls App\n",
      "\n",
      "https://docs.djangoproject.com/en/1.4/intro/tutorial01/\n",
      "\n",
      "Do the Microblog [Video]\n",
      "\n",
      "http://gettingstartedwithdjango.com/"
     ]
    },
    {
     "cell_type": "heading",
     "level": 2,
     "metadata": {},
     "source": [
      "Django Libraries:"
     ]
    },
    {
     "cell_type": "markdown",
     "metadata": {},
     "source": [
      "Django REST Framework (Django \"Batteries Included\" API Framework)\n",
      "\n",
      "http://www.django-rest-framework.org/\n",
      "\n",
      "Mazzanine (Django Content Management System)\n",
      "\n",
      "http://mezzanine.jupo.org/\n",
      "\n",
      "Mazzanine (Django Content Management System) - Source Code\n",
      "\n",
      "https://github.com/stephenmcd/mezzanine\n",
      "\n",
      "Drum (Django Sample Reddit / Hacker News clone) - Source Code\n",
      "\n",
      "https://github.com/stephenmcd/drum\n",
      "\n",
      "Drum (Django Sample Reddit / Hacker News clone) - Demo\n",
      "\n",
      "http://drum.jupo.org/"
     ]
    },
    {
     "cell_type": "heading",
     "level": 2,
     "metadata": {},
     "source": [
      "Compatibility:"
     ]
    },
    {
     "cell_type": "markdown",
     "metadata": {},
     "source": [
      "Cause we all want to migrate to 3.x\n",
      "\n",
      "http://python3wos.appspot.com/"
     ]
    },
    {
     "cell_type": "heading",
     "level": 2,
     "metadata": {},
     "source": [
      "Mobile Development Resources:"
     ]
    },
    {
     "cell_type": "markdown",
     "metadata": {},
     "source": [
      "Comparison of Titanium vs PhoneGap\n",
      "\n",
      "http://kevinwhinnery.com/post/22764624253/comparing-titanium-and-phonegap\n",
      "\n",
      "Titanium Source Code\n",
      "\n",
      "https://github.com/appcelerator/titanium_mobile\n",
      "\n",
      "Titanium Documentation\n",
      "\n",
      "https://wiki.appcelerator.org/display/guides2/Home\n",
      "\n",
      "Titanium Hello World\n",
      "\n",
      "http://randikastitaniumtutorial.blogspot.com/2013/04/introduction-to-appcelerator-titanium_10.html\n",
      "\n",
      "Learn how to create and test your first Appcelerator app using both Titanium Studio and the Titanium CLI [Video]\n",
      "\n",
      "http://vimeo.com/91954393\n",
      "\n",
      "Titanium using the Command Line Interface (CLI) [Video]\n",
      "\n",
      "http://vimeo.com/52734103\n",
      "\n",
      "Titanium User Authentication: Part 1\n",
      "\n",
      "http://code.tutsplus.com/tutorials/titanium-user-authentication-part-1--mobile-3728\n",
      "\n",
      "http://code.tutsplus.com/tutorials/titanium-user-authentication-part-2--mobile-3742\n",
      "\n",
      "http://code.tutsplus.com/tutorials/titanium-user-authentication-part-3--mobile-3840\n"
     ]
    },
    {
     "cell_type": "code",
     "collapsed": false,
     "input": [],
     "language": "python",
     "metadata": {},
     "outputs": []
    }
   ],
   "metadata": {}
  }
 ]
}