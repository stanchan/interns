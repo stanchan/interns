{
 "metadata": {
  "name": "",
  "signature": "sha256:8b4a2c2e34ca8999c1c930633c08d95e03f9aced306d36b7a53d17bdfe62181f"
 },
 "nbformat": 3,
 "nbformat_minor": 0,
 "worksheets": [
  {
   "cells": [
    {
     "cell_type": "heading",
     "level": 2,
     "metadata": {},
     "source": [
      "Django Resources:\n",
      "\n",
      "\n",
      "\n",
      "    "
     ]
    },
    {
     "cell_type": "markdown",
     "metadata": {},
     "source": [
      "Learn Python\n",
      "\n",
      "http://learnpythonthehardway.org/book/\n",
      "\n",
      "Do the Polls App\n",
      "\n",
      "https://docs.djangoproject.com/en/1.4/intro/tutorial01/\n",
      "\n",
      "Do the Microblog\n",
      "\n",
      "http://gettingstartedwithdjango.com/"
     ]
    },
    {
     "cell_type": "heading",
     "level": 2,
     "metadata": {},
     "source": [
      "Libraries:"
     ]
    },
    {
     "cell_type": "markdown",
     "metadata": {},
     "source": [
      "http://www.django-rest-framework.org/"
     ]
    },
    {
     "cell_type": "code",
     "collapsed": false,
     "input": [],
     "language": "python",
     "metadata": {},
     "outputs": []
    }
   ],
   "metadata": {}
  }
 ]
}