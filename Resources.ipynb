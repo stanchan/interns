{
 "metadata": {
  "name": "",
  "signature": "sha256:80e626b8af27483e61f5428a84d9a817b374cad6dbb7319dc0ec961fe8ec99cd"
 },
 "nbformat": 3,
 "nbformat_minor": 0,
 "worksheets": [
  {
   "cells": [
    {
     "cell_type": "heading",
     "level": 2,
     "metadata": {},
     "source": [
      "Django Resources:\n",
      "\n",
      "\n",
      "\n",
      "    "
     ]
    },
    {
     "cell_type": "markdown",
     "metadata": {},
     "source": [
      "Learn Python\n",
      "\n",
      "http://learnpythonthehardway.org/book/\n",
      "\n",
      "Do the Polls App\n",
      "\n",
      "https://docs.djangoproject.com/en/1.4/intro/tutorial01/\n",
      "\n",
      "Do the Microblog\n",
      "\n",
      "http://gettingstartedwithdjango.com/"
     ]
    },
    {
     "cell_type": "heading",
     "level": 2,
     "metadata": {},
     "source": [
      "Libraries:"
     ]
    },
    {
     "cell_type": "markdown",
     "metadata": {},
     "source": [
      "http://www.django-rest-framework.org/"
     ]
    },
    {
     "cell_type": "heading",
     "level": 2,
     "metadata": {},
     "source": [
      "Compatibility:"
     ]
    },
    {
     "cell_type": "markdown",
     "metadata": {},
     "source": [
      "Cause we all want to migrate to 3.x\n",
      "\n",
      "http://python3wos.appspot.com/"
     ]
    }
   ],
   "metadata": {}
  }
 ]
}